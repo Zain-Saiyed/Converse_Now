{
 "cells": [
  {
   "cell_type": "markdown",
   "metadata": {},
   "source": [
    " # Americal Sign Language Classification using MobileNet"
   ]
  },
  {
   "cell_type": "markdown",
   "metadata": {},
   "source": [
    "### Importing neccesary Modules"
   ]
  },
  {
   "cell_type": "code",
   "execution_count": null,
   "metadata": {},
   "outputs": [],
   "source": [
    "import numpy as np\n",
    "from matplotlib import image\n",
    "import matplotlib.pyplot as plt\n",
    "import scipy.misc\n",
    "import scipy\n",
    "from scipy import ndimage\n",
    "import numpy as np\n",
    "import argparse\n",
    "import sys\n",
    "import os,datetime\n",
    "# import pydot\n",
    "from IPython.display import SVG\n",
    "from keras.preprocessing.image import ImageDataGenerator\n",
    "import tensorflow as tf\n",
    "from tensorflow.keras.preprocessing import image\n",
    "from tensorflow.python.framework import ops\n",
    "from tensorflow.keras.applications import MobileNetV2 \n",
    "%matplotlib inline"
   ]
  },
  {
   "cell_type": "markdown",
   "metadata": {},
   "source": [
    "### Loading the Image dataset"
   ]
  },
  {
   "cell_type": "code",
   "execution_count": null,
   "metadata": {},
   "outputs": [],
   "source": [
    "def datagen(batch=32):\n",
    "    datagen1 = ImageDataGenerator( brightness_range=[0.8,1.5], horizontal_flip=True,shear_range=0.2, zoom_range=0.2, fill_mode=\"nearest\", rescale=1./255)\n",
    "\n",
    "    datagen2 = ImageDataGenerator( brightness_range=[0.5,1.7], horizontal_flip=True,shear_range=0.3, zoom_range=0.2, width_shift_range=0.1, fill_mode=\"nearest\", rescale=1./255)\n",
    "    \n",
    "    train_generator = datagen1.flow_from_directory('ASL\\asl_alphabet_train',shuffle=True, target_size = (200, 200), batch_size = batch, class_mode = 'categorical'  ) \n",
    "\n",
    "    val_generator = datagen2.flow_from_directory('ASL\\asl_alphabet_test', target_size = (200, 200), batch_size = batch, class_mode = 'categorical' )\n",
    "\n",
    "    return {\"train\":train_generator,\"test\":val_generator }"
   ]
  },
  {
   "cell_type": "code",
   "execution_count": null,
   "metadata": {},
   "outputs": [],
   "source": [
    "GeneratedData =  datagen(32)\n",
    "train = GeneratedData[\"train\"]\n",
    "test = GeneratedData[\"test\"]"
   ]
  },
  {
   "cell_type": "code",
   "execution_count": null,
   "metadata": {},
   "outputs": [],
   "source": [
    "X_train_orig, Y_train_orig=train.next()\n",
    "X_test_orig, Y_test_orig=test.next()"
   ]
  },
  {
   "cell_type": "code",
   "execution_count": null,
   "metadata": {},
   "outputs": [],
   "source": [
    "# Plotting Image for verification purposes\n",
    "plt.imshow(X_train_orig[1])\n",
    "print(np.argmax(Y_train_orig[1])+1)"
   ]
  },
  {
   "cell_type": "markdown",
   "metadata": {},
   "source": [
    "## Our Model:\n"
   ]
  },
  {
   "cell_type": "code",
   "execution_count": null,
   "metadata": {},
   "outputs": [],
   "source": [
    "from tensorflow.keras.models import Model \n",
    "from tensorflow.keras import backend as K\n",
    "from keras import optimizers"
   ]
  },
  {
   "cell_type": "code",
   "execution_count": null,
   "metadata": {
    "scrolled": true
   },
   "outputs": [],
   "source": [
    "# Creating MobileNet instance\n",
    "mobilenet_model = MobileNetV2(weights='imagenet',include_top=False,input_shape=(200,200,3))\n",
    "\n",
    "m=mobilenet_model.output\n",
    "m=tf.keras.layers.GlobalAveragePooling2D()(m)\n",
    "\n",
    "# Adding dense layers so that the model can learn more complex functions and classify for better results.\n",
    "m=tf.keras.layers.Dense(1280,activation='relu')(m) \n",
    "m=tf.keras.layers.Dropout(0.5)(m)\n",
    "\n",
    "# Dense layer 2\n",
    "m=tf.keras.layers.Dense(640,activation='relu')(m) \n",
    "m=tf.keras.layers.Dropout(0.3)(m)\n",
    "\n",
    "# Dense layer 3\n",
    "m=tf.keras.layers.Dense(320,activation='relu')(m) \n",
    "\n",
    "# Final Output layer with softmax activation function\n",
    "mobile_preds = tf.keras.layers.Dense(29,activation='softmax')(m) \n",
    "\n",
    "mobile_model=Model(mobilenet_model.input,outputs=mobile_preds)\n",
    "\n",
    "mobile_model.compile(loss='categorical_crossentropy',optimizer='Adadelta',metrics=['accuracy'])"
   ]
  },
  {
   "cell_type": "markdown",
   "metadata": {},
   "source": [
    "### Summary of our model:"
   ]
  },
  {
   "cell_type": "code",
   "execution_count": null,
   "metadata": {},
   "outputs": [],
   "source": [
    "mobile_model.summary()"
   ]
  },
  {
   "cell_type": "markdown",
   "metadata": {},
   "source": [
    "### Visualizing the above through a graphical plot"
   ]
  },
  {
   "cell_type": "code",
   "execution_count": null,
   "metadata": {},
   "outputs": [],
   "source": [
    "tf.keras.utils.plot_model(mobile_model, to_file='mobile_model.png')"
   ]
  },
  {
   "cell_type": "markdown",
   "metadata": {},
   "source": [
    "### Training created model on augmented dataset "
   ]
  },
  {
   "cell_type": "code",
   "execution_count": null,
   "metadata": {
    "scrolled": true
   },
   "outputs": [],
   "source": [
    "history = mobile_model.fit_generator(train,epochs=15,validation_data=test)"
   ]
  },
  {
   "cell_type": "markdown",
   "metadata": {},
   "source": [
    "### Analyzing model training phase:"
   ]
  },
  {
   "cell_type": "code",
   "execution_count": null,
   "metadata": {},
   "outputs": [],
   "source": [
    "plt.plot(history.history['acc'])\n",
    "plt.plot(history.history['val_acc'])\n",
    "plt.title('Model accuracy')\n",
    "plt.ylabel('Accuracy')\n",
    "plt.xlabel('Epoch')\n",
    "plt.legend(['Train', 'Test'], loc='upper left')\n",
    "plt.show()\n",
    "\n",
    "# Plot training & validation loss values\n",
    "plt.plot(history.history['loss'])\n",
    "plt.plot(history.history['val_loss'])\n",
    "plt.title('Model loss')\n",
    "plt.ylabel('Loss')\n",
    "plt.xlabel('Epoch')\n",
    "plt.legend(['Train', 'Test'], loc='upper left')\n",
    "plt.show()"
   ]
  },
  {
   "cell_type": "markdown",
   "metadata": {},
   "source": [
    "### Saving model"
   ]
  },
  {
   "cell_type": "code",
   "execution_count": null,
   "metadata": {},
   "outputs": [],
   "source": [
    "mobile_model.save(\"Mobile.h5\")"
   ]
  },
  {
   "cell_type": "markdown",
   "metadata": {},
   "source": [
    "<hr>"
   ]
  }
 ],
 "metadata": {
  "kernelspec": {
   "display_name": "Python 3",
   "language": "python",
   "name": "python3"
  },
  "language_info": {
   "codemirror_mode": {
    "name": "ipython",
    "version": 3
   },
   "file_extension": ".py",
   "mimetype": "text/x-python",
   "name": "python",
   "nbconvert_exporter": "python",
   "pygments_lexer": "ipython3",
   "version": "3.7.4"
  }
 },
 "nbformat": 4,
 "nbformat_minor": 2
}
